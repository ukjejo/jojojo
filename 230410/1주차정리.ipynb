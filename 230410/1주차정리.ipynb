{
 "cells": [
  {
   "cell_type": "code",
   "execution_count": null,
   "metadata": {},
   "outputs": [],
   "source": []
  },
  {
   "attachments": {},
   "cell_type": "markdown",
   "metadata": {},
   "source": [
    "# 변수\n",
    "1. 메모리에 데이터를 저장하는 공간의 이름\n",
    "2. 데이터들의 종류"
   ]
  },
  {
   "attachments": {},
   "cell_type": "markdown",
   "metadata": {},
   "source": [
    "\n",
    "# 연산자\n",
    "1. 일반적인 사칙연산 \n",
    "    - +, -, *, /, // (몫), % (나머지), **(제곱)\n",
    "\n",
    "2. 대입 연산자\n",
    "    - += , -=, *=, /= , //=, %=, **=\n",
    "    - ex) a += 1 -->   a = a + 1\n",
    "\n",
    "3. 비교 연산자\n",
    "    - 두 개의 값을 비교하여 참/거짓의 형태로 출력\n",
    "    - 주로 조건문, 반복문에 사용\n",
    "    - == (두 값이 같다.) , != (두 값이 다르다.) , > , >= , <, <= ...\n",
    "    \n",
    "    - 비교를 해야하는 조건이 2개 이상인 경우\n",
    "        - 두 조건이 모두 참이어야 참 : and (&)\n",
    "        - 두 조건 중 하나만 참이어도 참 : or (|)\n",
    "    \n",
    "    - not : 부정의 표현으로 참을 거짓으로 거짓을 참으로 출력 (~, !)"
   ]
  },
  {
   "attachments": {},
   "cell_type": "markdown",
   "metadata": {},
   "source": [
    "# 조건문\n",
    "1. 특정한 조건에 맞춰서 컴퓨터에게 지시를 내리기 위한 방법\n",
    "2. 조건식이 참인 경우 실행할 코드 작성\n",
    "3. 조건식이 거짓인 경우 실행할 코드 작성\n",
    "4. python 특징 : 일반적인 프로그래밍 언어에서는 {}이용 작성 / python에서는 들여쓰기를 이용 작성"
   ]
  },
  {
   "attachments": {},
   "cell_type": "markdown",
   "metadata": {},
   "source": [
    "# 반복문\n",
    "\n",
    "1. for문\n",
    "    - for 변수명 in range (시작값, 종료값, 증가값):\n",
    "    - for 변수명 in list형태의 데이터 :\n",
    "    - 리스트의 길이만큼 반복\n",
    "    - 리스트의 항목 하나씩 변수에 담아서 아래의 코드를 실행\n",
    "\n",
    "\n",
    "2. while문\n",
    "    - 초기값을 미리 지정\n",
    "    - while 조건식을 지정하여 조건식이 거짓이 될 때 까지 반복 실행\n",
    "\n",
    "3. 반복문은 무한 반복이 되지 않도록 조건을 맞춰서 사용하여야 한다."
   ]
  },
  {
   "attachments": {},
   "cell_type": "markdown",
   "metadata": {},
   "source": []
  },
  {
   "attachments": {},
   "cell_type": "markdown",
   "metadata": {},
   "source": [
    "1. tuple\n",
    "    - 여러 형태의 데이터를 담아두는 데이터 형태\n",
    "    - 가장 기본적인 형태\n",
    "    - 각 항목을 추가, 수정, 삭제 불가\n",
    "    - ()로 묶어서 표시 \n",
    "\n",
    "2. list\n",
    "    - tuple과 매우 흡사\n",
    "    - 항목들을 추가, 수정, 삭제하는 작업이 가능 (list에 있는 내장함수를 이용)\n",
    "    - []로 묶어서 표시\n",
    "\n",
    "3. dict\n",
    "    - 사전형 데이터를 의미\n",
    "    - key : value 쌍으로 이루어지는 데이터의 형태\n",
    "    - list와는 달리 위치에 상관없이 원하는 데이터를 key값 이용 출력가능\n",
    "    "
   ]
  },
  {
   "cell_type": "markdown",
   "metadata": {},
   "source": []
  },
  {
   "cell_type": "code",
   "execution_count": 7,
   "metadata": {},
   "outputs": [
    {
     "name": "stdout",
     "output_type": "stream",
     "text": [
      "3\n"
     ]
    }
   ],
   "source": [
    "_list = [1,2,3,4]\n",
    "\n",
    "for i in _list:\n",
    "    if i == 3:\n",
    "        print(i)"
   ]
  },
  {
   "cell_type": "code",
   "execution_count": null,
   "metadata": {},
   "outputs": [],
   "source": []
  },
  {
   "cell_type": "code",
   "execution_count": 14,
   "metadata": {},
   "outputs": [
    {
     "data": {
      "text/plain": [
       "1"
      ]
     },
     "execution_count": 14,
     "metadata": {},
     "output_type": "execute_result"
    }
   ],
   "source": [
    "_list.count(3)"
   ]
  },
  {
   "cell_type": "code",
   "execution_count": 16,
   "metadata": {},
   "outputs": [
    {
     "data": {
      "text/plain": [
       "True"
      ]
     },
     "execution_count": 16,
     "metadata": {},
     "output_type": "execute_result"
    }
   ],
   "source": [
    "3 in _list"
   ]
  },
  {
   "cell_type": "code",
   "execution_count": null,
   "metadata": {},
   "outputs": [],
   "source": []
  },
  {
   "cell_type": "code",
   "execution_count": 18,
   "metadata": {},
   "outputs": [
    {
     "data": {
      "text/plain": [
       "2"
      ]
     },
     "execution_count": 18,
     "metadata": {},
     "output_type": "execute_result"
    }
   ],
   "source": [
    "_list.index(3)"
   ]
  },
  {
   "attachments": {},
   "cell_type": "markdown",
   "metadata": {},
   "source": [
    "# 함수\n",
    "1. 고정된 데이터를 저장하는게 변수라면, 함수는 행동을 저장.\n",
    "2. def 키워드를 이용하여 함수 생성\n",
    "3. 함수를 호출하는 경우에는 함수명(인자)\n",
    "4. 일반적인 경우에는 함수의 매개변수 개수와 인자의 개수가 같아야 한다.\n",
    "5. return"
   ]
  },
  {
   "attachments": {},
   "cell_type": "markdown",
   "metadata": {},
   "source": [
    "### 연습 문제\n",
    "1. 비어있는 리스트를 하나 생성\n",
    "2. 함수 생성\n",
    "    - 매개 변수 1개\n",
    "    - 받아온 인자값을 비어있는 리스트에 추가\n",
    "    - 조건 : 리스트 안에 인자값이 존재하면 추가하지 않는다. (존재하지 않으면 추가)\n",
    "3. input() 함수를 이용하여 2번 과정에서 만든 함수를 호출( 인자값으로 input에서 받아온 데이터를 사용한다.)"
   ]
  },
  {
   "cell_type": "code",
   "execution_count": 69,
   "metadata": {},
   "outputs": [
    {
     "data": {
      "text/plain": [
       "'함수종료'"
      ]
     },
     "execution_count": 69,
     "metadata": {},
     "output_type": "execute_result"
    }
   ],
   "source": [
    "result = []\n",
    "def plus (x):\n",
    "    if x in result:\n",
    "        print(\"존재한다\")\n",
    "    else :\n",
    "        result.append(x)\n",
    "    return \"함수종료\"\n"
   ]
  },
  {
   "cell_type": "code",
   "execution_count": 74,
   "metadata": {},
   "outputs": [
    {
     "data": {
      "text/plain": [
       "'함수종료'"
      ]
     },
     "execution_count": 74,
     "metadata": {},
     "output_type": "execute_result"
    }
   ],
   "source": [
    "b = input()\n",
    "plus(b)"
   ]
  },
  {
   "cell_type": "code",
   "execution_count": 75,
   "metadata": {},
   "outputs": [
    {
     "name": "stdout",
     "output_type": "stream",
     "text": [
      "['3', '4', '5']\n"
     ]
    }
   ],
   "source": [
    "print(result)"
   ]
  },
  {
   "cell_type": "code",
   "execution_count": 45,
   "metadata": {},
   "outputs": [],
   "source": [
    "# 비어있는 리스트 생성\n",
    "_list = []\n",
    "\n",
    "# 함수 44\n",
    "def func_2(x):\n",
    "    if not(x in _list):\n",
    "        _list.append(x)\n",
    "    else:\n",
    "        print(\"존재한다\")\n",
    "    return \"함수 종료\"\n"
   ]
  },
  {
   "cell_type": "code",
   "execution_count": 76,
   "metadata": {},
   "outputs": [
    {
     "name": "stdout",
     "output_type": "stream",
     "text": [
      "존재한다\n",
      "['3', '2', '1', '5', '4', '']\n"
     ]
    }
   ],
   "source": [
    "a = input()\n",
    "func_2(a)\n",
    "print(_list)"
   ]
  },
  {
   "cell_type": "code",
   "execution_count": 71,
   "metadata": {},
   "outputs": [
    {
     "name": "stdout",
     "output_type": "stream",
     "text": [
      "['3']\n"
     ]
    }
   ],
   "source": [
    "print(result)"
   ]
  },
  {
   "attachments": {},
   "cell_type": "markdown",
   "metadata": {},
   "source": [
    "# 외부 라이브러리 \n",
    "1. 함수, 클래스들의 집합체\n",
    "2. 라이브러리 설치\n",
    "    - !pip install 라이브러리명 \n",
    "3. 라이브러리 호출\n",
    "    - import 라이브러리명 as 별칭\n",
    "    - import 라이브러리명.기능명 as 별칭\n",
    "    - from 라이브러리명 import (라이브러리 내부의 기능)\n"
   ]
  },
  {
   "attachments": {},
   "cell_type": "markdown",
   "metadata": {},
   "source": [
    "# pandas\n",
    "1. 외부의 파일을 가지고 오는 함수?\n",
    "    - read_csv, read_json, read_excel ,,,\n",
    "    - read_csv(파일 경로, encoding = \"인코더 종류(utf-8, euc-kr, CP949)\")\n",
    "\n",
    "2. 데이터프레임에서 컬럼의 이름을 변경 하는 방법?\n",
    "    - 데이터프레임명.columns = [변경할 컬럼들의 리스트 항목]\n",
    "\n",
    "3. 데이터프레임에서 특정 컬럼을 추출하는 방법?\n",
    "    - 단일 컬럼을 추출 : 데이터프레임명[컬럼명] --> 데이터 형태 : 스리즈\n",
    "    - 여러 개의 컬럼 추출 : 데이터프레임명[['컬럼1','컬럼2']] --> 데이터 형태 : 데이터프레임\n",
    "\n",
    "4. 스리즈 형태의 데이터를 리스트 형태로 변환?\n",
    "    - 스리즈명.tolist()\n",
    "\n",
    "5. 컬럼의 값을 기준으로 정렬을 변경하는 함수?\n",
    "    - sort_values(기준 컬럼)\n",
    "    - ascending : 오름차순(기본값),, 내림차순\n",
    "    - inplace : 기준이 되는 데이터프레임을 변경할지 지정 (기본값 : False)\n",
    "\n",
    "6. 인덱스를 재지정하는 함수?\n",
    "    - reset_index()\n",
    "    - drop : 기존의 인덱스를 삭제할 것인지 지정(기본값 : False)\n",
    "    - inplace가 존재\n",
    "\n",
    "7. 결측치 유무 판단\n",
    "    - isna() : 결측치인가를 판단하여 참/거짓 형태로 출력\n",
    "    - isna().sum() : 컬럼별 결측치의 개수를 확인\n",
    "    - 결측치의 값을 치환 : fillna(n) --> n의 값으로 결측치를 치환 \n",
    "\n",
    "8. 그룹화 함수\n",
    "    - groupby(그룹화할 컬럼명)\n",
    "    - sum() : 그룹화한 데이터들의 합계\n",
    "    - mean() : 그룹화한 데이터들의 평균\n",
    "    - min(), max() : 그룹화한 데이터들의 최솟값, 최댓값\n",
    "    - count() : 데이터의 개수\n",
    "    - agg() : 데이터들의 연산을 한줄로 처리하기 위한 함수\n",
    "\n",
    "9. 데이터프레임에 통계 요약 정보를 출력하는 함수?\n",
    "    - describe()\n",
    "\n",
    "10. 데이터 간의 차이를 구하는 함수\n",
    "    - diff(n) --> 현재 행의 데이터와 n만큼 이동한 데이터간의 차이를 출력\n",
    "\n",
    "11. 행을 이동하는 함수?\n",
    "    - shift(n)\n",
    "    - 행을 n만큼 이동한 데이터의 값을 출력\n",
    "\n",
    "12. 데이터프레임간의 결합 함수\n",
    "    - concat()\n",
    "        - 단순하게 행이나 열을 결합하는 함수\n",
    "        - axis = 행을 결합할지, 열을 결합할지 지정\n",
    "    - merge()\n",
    "        - 특정한 조건에 맞춰 열을 추가해주는 함수\n",
    "        - on : 특정한 조건\n",
    "        - how : 기준이 되는 데이터프레임 지정 (left, right, inner, outer)\n",
    "\n",
    "13. apply()\n",
    "    - 데이터프레임에 있는 각 원소들을 ()안에 함수에 대입하여 실행\n",
    "    - ex) apply(일반함수), apply(lambda 함수)\n",
    "    \n",
    "14. 시계열 변환\n",
    "    - to_datetime(변경할 데이터, format = \"\")\n",
    "    - format : 변경할 데이터의 형식\n",
    "    - format ex) 201901데이터를 시계열로 변경\n",
    "        --> format = \"%Y%m\"\n",
    "    - format ex) 01-2019데이터를 시계열로 변경\n",
    "        --> format = \"%m-%Y\""
   ]
  },
  {
   "cell_type": "markdown",
   "metadata": {},
   "source": []
  }
 ],
 "metadata": {
  "kernelspec": {
   "display_name": "Python 3",
   "language": "python",
   "name": "python3"
  },
  "language_info": {
   "codemirror_mode": {
    "name": "ipython",
    "version": 3
   },
   "file_extension": ".py",
   "mimetype": "text/x-python",
   "name": "python",
   "nbconvert_exporter": "python",
   "pygments_lexer": "ipython3",
   "version": "3.10.10"
  },
  "orig_nbformat": 4
 },
 "nbformat": 4,
 "nbformat_minor": 2
}
