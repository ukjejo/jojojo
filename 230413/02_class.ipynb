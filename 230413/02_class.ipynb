{
 "cells": [
  {
   "attachments": {},
   "cell_type": "markdown",
   "metadata": {},
   "source": [
    "# Class 생성\n",
    "1. class 이름은 User\n",
    "2. 생성자 함수(__init__)에서 유저의 이름, 휴대폰 번호, 생년월일 매개변수를 이용하여 self 변수 만들어 저장\n",
    "3. info() 함수 생성하여 유저의 정보를 출력하는 함수 생성"
   ]
  },
  {
   "cell_type": "code",
   "execution_count": 17,
   "metadata": {},
   "outputs": [],
   "source": [
    "# class 선언\n",
    "class User():\n",
    "    \n",
    "    # 생성자 함수 생성 : 매개변수 3개(self 제외)\n",
    "    def __init__ (self, _name, _phone, _birth):\n",
    "        self.name = _name\n",
    "        self.phone = _phone\n",
    "        self.birth = _birth\n",
    "        \n",
    "    def info(self):\n",
    "        return (self.name, self.phone, self.birth)"
   ]
  },
  {
   "cell_type": "code",
   "execution_count": 18,
   "metadata": {},
   "outputs": [],
   "source": [
    "# test\n",
    "#클래스 생성\n",
    "test = User('test', '010123456780', '900101')"
   ]
  },
  {
   "cell_type": "code",
   "execution_count": 19,
   "metadata": {},
   "outputs": [
    {
     "data": {
      "text/plain": [
       "'900101'"
      ]
     },
     "execution_count": 19,
     "metadata": {},
     "output_type": "execute_result"
    }
   ],
   "source": [
    "test.birth"
   ]
  },
  {
   "cell_type": "code",
   "execution_count": 20,
   "metadata": {},
   "outputs": [
    {
     "data": {
      "text/plain": [
       "('test', '010123456780', '900101')"
      ]
     },
     "execution_count": 20,
     "metadata": {},
     "output_type": "execute_result"
    }
   ],
   "source": [
    "test.info()"
   ]
  },
  {
   "attachments": {},
   "cell_type": "markdown",
   "metadata": {},
   "source": [
    "# 지갑 클래스 선언\n",
    "\n",
    "1. 클래스의 이름은 wallet\n",
    "2. 생성자 함수에는 소유자의 이름, 지갑의 브랜드, 지갑의 가치, 잔액\n",
    "3. 잔액은 기본값은 0\n",
    "4. work() 함수를 생성 : 매개변수에 일의 종류, 일의 종류가 'TM'이면 지갑의 잔액은 500 증가, ALBA이면 지갑의 잔액을 300 증가, SERVING이면 잔액 400 증가\n",
    "5. wallet_info() 함수를 생성 : 지갑의 정보(소유자의 이름, 지갑의 브랜드, 지갑의 가치, 잔액) 출력"
   ]
  },
  {
   "cell_type": "code",
   "execution_count": 235,
   "metadata": {},
   "outputs": [],
   "source": [
    "class Wallet(User):\n",
    "    \n",
    "    # 클래스 변수 (해당 클래스에서 모두 공유할 수 있는 변수)\n",
    "    work_type = {\n",
    "        'TM' : 500,\n",
    "        'ALBA' : 300,\n",
    "        'SERVING' : 400\n",
    "    }\n",
    "    \n",
    "    item_type = {\n",
    "        'game' : 200,\n",
    "        'food' : 300,\n",
    "        'clothes' : 500\n",
    "    }\n",
    "    \n",
    "    # 생성자 함수\n",
    "    def __init__ (self, _name, _phone, _birth,  _brand, _price, _cash):\n",
    "        \n",
    "        #부모클래스의 __init__함수 실행\n",
    "        super().__init__(_name, _phone, _birth)\n",
    "        self.brand = _brand\n",
    "        self.price = _price\n",
    "        self.cash = _cash\n",
    "        self.cash = 0\n",
    "    \n",
    "    # work() 함수를 생성    \n",
    "    def work(self, _type):\n",
    "        # if _list == 'TM':\n",
    "        #     self.cash += 500\n",
    "        # elif _list == 'ALBA':\n",
    "        #     self.cash += 300    \n",
    "        # elif _list == 'SERVING':\n",
    "        #     self.cash += 400    \n",
    "        # else:\n",
    "        #     return \"일의 타입이 맞지 않습니다.\"\n",
    "        # return f\"{_list}의 일을 완료하였습니다. 현재의 잔액은 {self.cash}입니다\"\n",
    "\n",
    "        if _type in self.work_type.keys():\n",
    "            self.cash += self.work_type[_type]\n",
    "        else:\n",
    "            return \"일의 타입이 맞지 않습니다.\"\n",
    "        return f\"{_type}의 일을 완료하였습니다. 현재의 잔액은 {self.cash}입니다\"\n",
    "            \n",
    "            \n",
    "    # 구매하는 함수 생성\n",
    "    def buy(self, _item):\n",
    "        # if _item == 'food' :\n",
    "        #     self.cost = 200\n",
    "        # elif _item == 'game' :\n",
    "        #     self.cost = 300\n",
    "        # elif _item == 'clothes':\n",
    "        #     self.cost = 500\n",
    "        # else :\n",
    "        #     return \"item의 타입이 맞지 않습니다.\"\n",
    "        \n",
    "        if _item in self.item_type.keys():\n",
    "            if self.cash >= self.item_type[_item]:\n",
    "                self.cash -= self.item_type[_item]\n",
    "            else:\n",
    "                return \"지갑의 잔액이 부족합니다.\"\n",
    "        else:\n",
    "            return f\"{_item}을(를) 구매하였습니다. 현재 잔액은 {self.cash}입니다.\"\n",
    "            \n",
    "    # 일과 구매의 목록을 추가하는 함수 생성\n",
    "    def add_type(self, _choose, _key, _value):\n",
    "        # _choose : 일의 목록인지, 구매목록인지\n",
    "        # _key : dict의 key 값\n",
    "        # _value : dict의 value 값\n",
    "        \n",
    "        if _choose == \"work\":\n",
    "            if _key not in self.work_type.keys():\n",
    "                self.work_type[_key] = _value\n",
    "            else:\n",
    "                return \"일 목록에 이미 존재합니다.\"\n",
    "        \n",
    "        elif _choose == \"buy\":\n",
    "            if _key not in self.item_type.keys():\n",
    "                self.item_type[_key] = _value\n",
    "            else:\n",
    "                return \"구매 목록에 이미 존재합니다.\"\n",
    "        else:\n",
    "            return \"choose의 값이 잘못되었습니다.\"\n",
    "        \n",
    "        return f\"{_choose}의 목록이 추가되었습니다.\"\n",
    "    \n",
    "    \n",
    "    \n",
    "    # 지갑의 정보를 출력하는 함수 생성\n",
    "    def info(self):\n",
    "        return ( self.brand, self.price, self.cash)"
   ]
  },
  {
   "cell_type": "code",
   "execution_count": 236,
   "metadata": {},
   "outputs": [],
   "source": [
    "test = Wallet('jo','01012345678','981203','kakao','50000','0')"
   ]
  },
  {
   "cell_type": "code",
   "execution_count": 240,
   "metadata": {},
   "outputs": [
    {
     "data": {
      "text/plain": [
       "('kakao', '50000', 0)"
      ]
     },
     "execution_count": 240,
     "metadata": {},
     "output_type": "execute_result"
    }
   ],
   "source": [
    "test.info()"
   ]
  },
  {
   "cell_type": "code",
   "execution_count": 229,
   "metadata": {},
   "outputs": [
    {
     "data": {
      "text/plain": [
       "'ALBA의 일을 완료하였습니다. 현재의 잔액은 600입니다'"
      ]
     },
     "execution_count": 229,
     "metadata": {},
     "output_type": "execute_result"
    }
   ],
   "source": [
    "test.work('ALBA')"
   ]
  },
  {
   "cell_type": "code",
   "execution_count": 231,
   "metadata": {},
   "outputs": [
    {
     "data": {
      "text/plain": [
       "('kakao', '50000', 600)"
      ]
     },
     "execution_count": 231,
     "metadata": {},
     "output_type": "execute_result"
    }
   ],
   "source": [
    "test.wallet_info()"
   ]
  },
  {
   "cell_type": "code",
   "execution_count": 227,
   "metadata": {},
   "outputs": [
    {
     "data": {
      "text/plain": [
       "('kakao', '50000', 0)"
      ]
     },
     "execution_count": 227,
     "metadata": {},
     "output_type": "execute_result"
    }
   ],
   "source": [
    "test.wallet_info()"
   ]
  },
  {
   "cell_type": "code",
   "execution_count": 174,
   "metadata": {},
   "outputs": [
    {
     "data": {
      "text/plain": [
       "'지갑의 잔액이 부족합니다.'"
      ]
     },
     "execution_count": 174,
     "metadata": {},
     "output_type": "execute_result"
    }
   ],
   "source": [
    "test.buy('game')"
   ]
  },
  {
   "cell_type": "code",
   "execution_count": 211,
   "metadata": {},
   "outputs": [
    {
     "data": {
      "text/plain": [
       "'work의 목록이 추가되었습니다.'"
      ]
     },
     "execution_count": 211,
     "metadata": {},
     "output_type": "execute_result"
    }
   ],
   "source": [
    "test.add_type('work', 'teach', 200)"
   ]
  },
  {
   "cell_type": "code",
   "execution_count": 238,
   "metadata": {},
   "outputs": [],
   "source": [
    "test2 = User('test2', '01011112222', '000101')"
   ]
  },
  {
   "cell_type": "code",
   "execution_count": 239,
   "metadata": {},
   "outputs": [
    {
     "data": {
      "text/plain": [
       "('test2', '01011112222', '000101')"
      ]
     },
     "execution_count": 239,
     "metadata": {},
     "output_type": "execute_result"
    }
   ],
   "source": [
    "test2.info()"
   ]
  }
 ],
 "metadata": {
  "kernelspec": {
   "display_name": "Python 3",
   "language": "python",
   "name": "python3"
  },
  "language_info": {
   "codemirror_mode": {
    "name": "ipython",
    "version": 3
   },
   "file_extension": ".py",
   "mimetype": "text/x-python",
   "name": "python",
   "nbconvert_exporter": "python",
   "pygments_lexer": "ipython3",
   "version": "3.10.11"
  },
  "orig_nbformat": 4
 },
 "nbformat": 4,
 "nbformat_minor": 2
}
