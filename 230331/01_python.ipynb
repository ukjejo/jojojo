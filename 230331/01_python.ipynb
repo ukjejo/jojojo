{
 "cells": [
  {
   "cell_type": "code",
   "execution_count": 2,
   "metadata": {},
   "outputs": [
    {
     "name": "stdout",
     "output_type": "stream",
     "text": [
      "10\n",
      "test\n",
      "<class 'int'>\n",
      "<class 'str'>\n"
     ]
    }
   ],
   "source": [
    "# 변수 선언과 동시에 값을 할당\n",
    "a = 10\n",
    "b = \"test\"\n",
    "\n",
    "# 두 변수를 출력\n",
    "print(a)\n",
    "print(b)\n",
    "\n",
    "#두 변수의 데이터의 형태 출력\n",
    "print(type(a))\n",
    "print(type(b))"
   ]
  },
  {
   "cell_type": "code",
   "execution_count": 4,
   "metadata": {},
   "outputs": [
    {
     "name": "stdout",
     "output_type": "stream",
     "text": [
      "10\n",
      "<class 'str'>\n"
     ]
    }
   ],
   "source": [
    "#숫자 형태의 데이터에 \"\"로 묶어주면 문자열 데이터로 데이터 대입\n",
    "c = \"10\"\n",
    "\n",
    "print(c)\n",
    "print(type(c))"
   ]
  },
  {
   "cell_type": "code",
   "execution_count": 7,
   "metadata": {},
   "outputs": [
    {
     "name": "stdout",
     "output_type": "stream",
     "text": [
      "10 4 21 2.3333333333333335 2 1 343\n"
     ]
    }
   ],
   "source": [
    "# 산술 연산자\n",
    "x = 7\n",
    "y = 3\n",
    "\n",
    "print(x+y, x-y, x*y, x/y, x//y, x%y, x**y)"
   ]
  },
  {
   "cell_type": "code",
   "execution_count": 9,
   "metadata": {},
   "outputs": [
    {
     "name": "stdout",
     "output_type": "stream",
     "text": [
      "3.3333333333333335\n",
      "4.333333333333334\n",
      "1.333333333333334\n",
      "2.666666666666668\n",
      "0.8888888888888893\n",
      "2.8888888888888893\n",
      "0.8888888888888893\n"
     ]
    }
   ],
   "source": [
    "# 대입 연산자\n",
    "# +=, -=, *=, /*, //*, %=, **=\n",
    "# 산술 연산자와의 차이는 기준이 되는 변수의 데이터를 변경\n",
    "print(x) # 7이 출력\n",
    "x += 1   # x = x+1\n",
    "print(x) # x = 8\n",
    "x-= 3    # x = x - 3 \n",
    "print(x) # x = 5\n",
    "x *= 2   # x = x * 2\n",
    "print(x) # x = 10\n",
    "x /= 3   # x = x / 3\n",
    "print(x) # x = 3.3333...\n",
    "print(x+2)\n",
    "print(x) # 위의 x + 2는 x에 2를 더한 값을 출력하는 부분일 뿐, x 데이터의 변화는 없다.\n"
   ]
  },
  {
   "cell_type": "code",
   "execution_count": 11,
   "metadata": {},
   "outputs": [
    {
     "name": "stdout",
     "output_type": "stream",
     "text": [
      "False\n",
      "True\n",
      "True\n",
      "False\n",
      "True\n",
      "False\n"
     ]
    }
   ],
   "source": [
    "# 비교 연산자\n",
    "# 데이터의 비교를 하여 논리값을 출력\n",
    "# 논리값 bool의 형태 (true, False)\n",
    "x = 7\n",
    "y = 3 \n",
    "\n",
    "print(x == y) # f\n",
    "print(x != y) # t\n",
    "print(x > y) # t\n",
    "print(x < y) # f\n",
    "print(x >= y) # t\n",
    "print(x <= y) # f"
   ]
  },
  {
   "cell_type": "code",
   "execution_count": 14,
   "metadata": {},
   "outputs": [
    {
     "name": "stdout",
     "output_type": "stream",
     "text": [
      "True\n",
      "False\n",
      "False\n"
     ]
    }
   ],
   "source": [
    "# and, or, not\n",
    "# and : 두 조건이 모두 참인 경우에 참 나머지의 경우엔 모두 거짓\n",
    "print(True and True)\n",
    "print(True and False)\n",
    "print(False and False)"
   ]
  },
  {
   "cell_type": "code",
   "execution_count": 18,
   "metadata": {},
   "outputs": [
    {
     "name": "stdout",
     "output_type": "stream",
     "text": [
      "True\n",
      "True\n",
      "False\n"
     ]
    }
   ],
   "source": [
    "#or : 두 조건 중 하나만 참이면 참을 출력, 두 조건이 모두 거짓인 경우에만 거짓을 출력\n",
    "print(True or True)\n",
    "print(True or False)\n",
    "print(False or False)"
   ]
  },
  {
   "cell_type": "code",
   "execution_count": 17,
   "metadata": {},
   "outputs": [
    {
     "name": "stdout",
     "output_type": "stream",
     "text": [
      "False\n"
     ]
    }
   ],
   "source": [
    "# not : True는 False로, False 는 True로 출력\n",
    "print(not(True))"
   ]
  },
  {
   "cell_type": "code",
   "execution_count": 20,
   "metadata": {},
   "outputs": [],
   "source": [
    "#if 뒤의 조건식이 참인 경우 코드가 실행된다.\n",
    "# 조건식이 거짓인 경우에는 코드가 실행되지 않는다.\n",
    "# 거짓는인 경우 코드를 실행하려면 else구문이 필요하다.\n",
    "# 조건식이 여러개인 경우에는 elif 조건식의 형태로 구문을 만들어준다."
   ]
  },
  {
   "cell_type": "code",
   "execution_count": 21,
   "metadata": {},
   "outputs": [
    {
     "name": "stdout",
     "output_type": "stream",
     "text": [
      "a는 10보다 작다\n",
      "프로그램 종료\n"
     ]
    }
   ],
   "source": [
    "#if문\n",
    "# a가 10보다 작은 경우에는 첫번째 print를 실행\n",
    "# a가 10보다 크거나 같은 경우에는 첫번째 print를 실행하지 않는다.\n",
    "a = 5\n",
    "if a < 10 :\n",
    "     print(\"a는 10보다 작다\") #들여쓰기 필수 \n",
    "\n",
    "print(\"프로그램 종료\") #else가 없으므로 조건에 구애받지 않고 실행됨"
   ]
  },
  {
   "cell_type": "code",
   "execution_count": 23,
   "metadata": {},
   "outputs": [
    {
     "name": "stdout",
     "output_type": "stream",
     "text": [
      "a는 10보다 크거나 같다\n",
      "프로그램 종료\n"
     ]
    }
   ],
   "source": [
    "#if - else문\n",
    "a = 15\n",
    "\n",
    "if a < 10 :\n",
    "    print(\"a는 10보다 작다\")\n",
    "else :\n",
    "    print(\"a는 10보다 크거나 같다\")\n",
    "\n",
    "print(\"프로그램 종료\")"
   ]
  },
  {
   "cell_type": "code",
   "execution_count": 25,
   "metadata": {},
   "outputs": [
    {
     "name": "stdout",
     "output_type": "stream",
     "text": [
      "c\n",
      "프로그램 종료\n"
     ]
    }
   ],
   "source": [
    "#elif 문\n",
    "\n",
    "score = int(input(\"점수를 입력하시오\"))\n",
    "\n",
    "if score >= 90 :\n",
    "    print(\"a\")\n",
    "elif score >= 80 :\n",
    "    print(\"b\")\n",
    "elif score >= 70 :\n",
    "    print(\"c\")\n",
    "else :\n",
    "    print(\"f\")\n",
    "\n",
    "print(\"프로그램 종료\")"
   ]
  },
  {
   "cell_type": "code",
   "execution_count": 28,
   "metadata": {},
   "outputs": [
    {
     "name": "stdout",
     "output_type": "stream",
     "text": [
      "[1, 2, 3, 4, 5, 6, 7, 8, 9, 10]\n"
     ]
    }
   ],
   "source": [
    "#range(시작값, 종료값, 증가값)\n",
    "\n",
    "print(list(range(1, 11, 1)))"
   ]
  },
  {
   "cell_type": "code",
   "execution_count": 31,
   "metadata": {},
   "outputs": [
    {
     "name": "stdout",
     "output_type": "stream",
     "text": [
      "1\n",
      "2\n",
      "3\n",
      "4\n",
      "5\n",
      "6\n",
      "7\n",
      "8\n",
      "9\n",
      "10\n",
      "프로그램 종료\n"
     ]
    }
   ],
   "source": [
    "#for문\n",
    "for i in range(1, 11, 1):\n",
    "    print(i)\n",
    "print(\"프로그램 종료\")"
   ]
  },
  {
   "cell_type": "code",
   "execution_count": 40,
   "metadata": {},
   "outputs": [
    {
     "name": "stdout",
     "output_type": "stream",
     "text": [
      "10\n",
      "8\n",
      "6\n",
      "4\n",
      "2\n"
     ]
    }
   ],
   "source": [
    "for i in range(10, 1, -2) :\n",
    "    print(i)"
   ]
  },
  {
   "cell_type": "code",
   "execution_count": 42,
   "metadata": {},
   "outputs": [
    {
     "name": "stdout",
     "output_type": "stream",
     "text": [
      "55\n"
     ]
    }
   ],
   "source": [
    "# 1부터 10까지의 합계\n",
    "#10번 반복\n",
    "\n",
    "#초기값 지정\n",
    "result = 0\n",
    "\n",
    "#반복문 시작\n",
    "for i in range(1, 11, 1) :\n",
    "    result += i\n",
    "print(result)"
   ]
  },
  {
   "cell_type": "code",
   "execution_count": 50,
   "metadata": {},
   "outputs": [
    {
     "name": "stdout",
     "output_type": "stream",
     "text": [
      "650\n"
     ]
    }
   ],
   "source": [
    "#1부터 50까지의 합계를 구한다. 1부터 50까지 짝수의 합계만 구하는 방법은?\n",
    "\n",
    "result = 0\n",
    "for i in range (2, 51, 2) :\n",
    "    result += i\n",
    "print(result)"
   ]
  },
  {
   "cell_type": "code",
   "execution_count": 51,
   "metadata": {},
   "outputs": [
    {
     "name": "stdout",
     "output_type": "stream",
     "text": [
      "650\n"
     ]
    }
   ],
   "source": [
    "result = 0 \n",
    "for i in range (1, 51, 1) :\n",
    "    if i % 2 == 0 :\n",
    "        result += i\n",
    "print(result)"
   ]
  },
  {
   "cell_type": "code",
   "execution_count": 55,
   "metadata": {},
   "outputs": [
    {
     "name": "stdout",
     "output_type": "stream",
     "text": [
      "1 4\n",
      "2 3\n",
      "3 2\n",
      "4 1\n",
      "4 6\n",
      "5 5\n",
      "6 4\n"
     ]
    }
   ],
   "source": [
    "#주사위 2개를 굴려서 두 주사위의 합계가 5의 배수인 경우를 출력하시오\n",
    "#경우의 수 : 36번 -> 6번 경우의 수 * 6번 경우의 수 \n",
    "#다중 for문 + if문\n",
    "\n",
    "for i in range(1, 7, 1) :\n",
    "    for j in range(1, 7, 1) :\n",
    "        if (i + j) % 5 == 0 :\n",
    "            print(i,j)"
   ]
  },
  {
   "cell_type": "code",
   "execution_count": 65,
   "metadata": {},
   "outputs": [],
   "source": [
    "# a ** n + b ** n = c ** n 이 수식에서 n의 값이 2보다 큰 자연수이면 a, b, c의 자연수의 값은 존재하지 않는다.\n",
    "# n의 값이 3인 경우 a, b, c가 1부터 10까지 이 정리가 사실임을 증명하시오\n",
    "\n",
    "for a in range (1, 11, 1) :\n",
    "    for b in range(1, 11, 1) :\n",
    "        for c in range(1, 11, 1) :\n",
    "            if a**3 + b**3 == c**3 :\n",
    "             print(a,b,c)\n",
    "            "
   ]
  },
  {
   "cell_type": "code",
   "execution_count": 68,
   "metadata": {},
   "outputs": [
    {
     "name": "stdout",
     "output_type": "stream",
     "text": [
      "1\n",
      "2\n",
      "3\n",
      "4\n",
      "5\n",
      "6\n",
      "7\n",
      "8\n",
      "9\n",
      "10\n"
     ]
    }
   ],
   "source": [
    "#while문 \n",
    "\n",
    "# 초기값 지정\n",
    "i = 0\n",
    "\n",
    "while i < 10 :\n",
    "    \n",
    "    i += 1     # 아랫줄과 순서 유의. 값이 달라짐\n",
    "    print (i)"
   ]
  },
  {
   "cell_type": "code",
   "execution_count": 71,
   "metadata": {},
   "outputs": [
    {
     "name": "stdout",
     "output_type": "stream",
     "text": [
      "55\n"
     ]
    }
   ],
   "source": [
    "# while문을 이용하여 1부터 10까지의 합계\n",
    "\n",
    "result = 0\n",
    "i = 1\n",
    "while i <= 10 :\n",
    "    result += i\n",
    "    i += 1 # i값을 마지막에 적도록 . 빼먹진 말고.\n",
    "print(result)\n",
    "    "
   ]
  },
  {
   "cell_type": "code",
   "execution_count": 73,
   "metadata": {},
   "outputs": [
    {
     "name": "stdout",
     "output_type": "stream",
     "text": [
      "3\n",
      "4\n",
      "5\n",
      "6\n",
      "7\n",
      "8\n",
      "9\n",
      "10\n"
     ]
    }
   ],
   "source": [
    "#continue, break \n",
    "#continue 반복문으로 돌아간다.\n",
    "#break 반복문을 종료한다.\n",
    "\n",
    "#continue 예시\n",
    "for i in range(1, 11, 1) :\n",
    "    if i < 3 :\n",
    "        continue\n",
    "    print(i)"
   ]
  },
  {
   "cell_type": "code",
   "execution_count": 75,
   "metadata": {},
   "outputs": [
    {
     "name": "stdout",
     "output_type": "stream",
     "text": [
      "0\n",
      "1\n",
      "2\n",
      "3\n",
      "4\n",
      "5\n",
      "6\n"
     ]
    }
   ],
   "source": [
    "#break 예시\n",
    "\n",
    "i = 0 \n",
    "\n",
    "while i < 11 :\n",
    "    if i == 7 :\n",
    "        break\n",
    "    print(i)\n",
    "    i += 1"
   ]
  },
  {
   "cell_type": "code",
   "execution_count": 85,
   "metadata": {},
   "outputs": [
    {
     "name": "stdout",
     "output_type": "stream",
     "text": [
      "42\n"
     ]
    }
   ],
   "source": [
    "# 1부터 1000까지 합계를 구하는데 합계가 900이 넘어가는 최초의 숫자는 무엇인가?\n",
    "\n",
    "result = 0\n",
    "\n",
    "for i in range (1, 1001, 1) :\n",
    "    result += i\n",
    "    if result > 900 : \n",
    "         break  \n",
    "    \n",
    "print(i)\n",
    "    "
   ]
  },
  {
   "cell_type": "code",
   "execution_count": 90,
   "metadata": {},
   "outputs": [
    {
     "name": "stdout",
     "output_type": "stream",
     "text": [
      "42\n",
      "903\n"
     ]
    }
   ],
   "source": [
    "result = 0\n",
    "i = 1\n",
    "while i <= 1000:\n",
    "    result += i\n",
    "    if result > 900:\n",
    "        break\n",
    "    i += 1 \n",
    "print(i)\n",
    "print(result)"
   ]
  },
  {
   "cell_type": "code",
   "execution_count": null,
   "metadata": {},
   "outputs": [],
   "source": []
  },
  {
   "attachments": {},
   "cell_type": "markdown",
   "metadata": {},
   "source": [
    "#튜플"
   ]
  },
  {
   "cell_type": "markdown",
   "metadata": {},
   "source": []
  },
  {
   "cell_type": "code",
   "execution_count": 92,
   "metadata": {},
   "outputs": [
    {
     "name": "stdout",
     "output_type": "stream",
     "text": [
      "(4, 'Hello')\n",
      "(3, 3.14)\n",
      "(4, 'Hello', 3, 3.14)\n",
      "(4, 'Hello', 4, 'Hello', 4, 'Hello')\n"
     ]
    }
   ],
   "source": [
    "a = (4, \"Hello\")\n",
    "b = (3, 3.14)\n",
    "c = a + b\n",
    "d = a * 3\n",
    "print(a)\n",
    "print(b)\n",
    "print(c)\n",
    "print(d)"
   ]
  },
  {
   "cell_type": "code",
   "execution_count": 95,
   "metadata": {},
   "outputs": [
    {
     "name": "stdout",
     "output_type": "stream",
     "text": [
      "4\n"
     ]
    }
   ],
   "source": [
    "# 튜플과 같은 여러개의 원소를 담아내고 있는 변수들은 위치값으로 각각의 원소를 출력할 수 있다.\n",
    "print(a[0]) # 위치는 0부터 시작"
   ]
  },
  {
   "cell_type": "code",
   "execution_count": 97,
   "metadata": {},
   "outputs": [
    {
     "name": "stdout",
     "output_type": "stream",
     "text": [
      "H\n"
     ]
    }
   ],
   "source": [
    "print(a[1][0]) #하나씩 괄호 벗겨나가기"
   ]
  },
  {
   "cell_type": "code",
   "execution_count": 2,
   "metadata": {},
   "outputs": [
    {
     "name": "stdout",
     "output_type": "stream",
     "text": [
      "(20, 30, 40)\n"
     ]
    }
   ],
   "source": [
    "a = (10, 20, 30, 40, 50)\n",
    "\n",
    "# 2번째 원소부터 4번째 원소까지 출력\n",
    "print(a[1 : 4])"
   ]
  },
  {
   "cell_type": "code",
   "execution_count": 101,
   "metadata": {},
   "outputs": [
    {
     "name": "stdout",
     "output_type": "stream",
     "text": [
      "(20, 30, 40, 50)\n",
      "(10, 20, 30)\n"
     ]
    }
   ],
   "source": [
    "print(a[1:]) # 2번째부터 마지막까지 출력\n",
    "print(a[:3]) # 처음부터 3번째 항목까지 출력"
   ]
  },
  {
   "cell_type": "code",
   "execution_count": 103,
   "metadata": {},
   "outputs": [
    {
     "name": "stdout",
     "output_type": "stream",
     "text": [
      "[10, 20, 30, 40]\n",
      "[40, 30, 20, 10]\n"
     ]
    }
   ],
   "source": [
    "#리스트는 대괄호\n",
    "a = [20, 10, 40, 30]\n",
    "b = [10, 20, 30, 40]\n",
    "\n",
    "# a 리스트의 순서를 오름차순으로 변경\n",
    "a.sort()\n",
    "# b 리스트는 순서를 역순으로 변경\n",
    "b.reverse()\n",
    "\n",
    "print(a)\n",
    "print(b)"
   ]
  },
  {
   "cell_type": "code",
   "execution_count": 105,
   "metadata": {},
   "outputs": [
    {
     "name": "stdout",
     "output_type": "stream",
     "text": [
      "[10, 20]\n",
      "[40, 30, 20, 10, 22, 22]\n"
     ]
    }
   ],
   "source": [
    "# a 리스트에서 마지막 항목 삭제\n",
    "a.pop()\n",
    "# b 리스트에는 22라는 항목을 추가\n",
    "b.append(22)\n",
    "\n",
    "print(a)\n",
    "print(b)"
   ]
  },
  {
   "cell_type": "code",
   "execution_count": 107,
   "metadata": {},
   "outputs": [
    {
     "name": "stdout",
     "output_type": "stream",
     "text": [
      "[1, 2, 3, 4, 5, 6, 7, 8, 9, 10]\n"
     ]
    }
   ],
   "source": [
    "x = []\n",
    "\n",
    "for i in range(1, 11, 1) :\n",
    "    x.append(i)\n",
    "print(x)"
   ]
  },
  {
   "cell_type": "code",
   "execution_count": 116,
   "metadata": {},
   "outputs": [
    {
     "ename": "IndentationError",
     "evalue": "expected an indented block after 'for' statement on line 8 (1489896725.py, line 9)",
     "output_type": "error",
     "traceback": [
      "\u001b[1;36m  Cell \u001b[1;32mIn[116], line 9\u001b[1;36m\u001b[0m\n\u001b[1;33m    print(i)\u001b[0m\n\u001b[1;37m            ^\u001b[0m\n\u001b[1;31mIndentationError\u001b[0m\u001b[1;31m:\u001b[0m expected an indented block after 'for' statement on line 8\n"
     ]
    }
   ],
   "source": [
    "y = [30, 20, 80, 10]\n",
    "\n",
    "\n",
    "for i in range(0, len(y), 1) :\n",
    "\n",
    " print(y[i])\n",
    " \n",
    " for i in y :\n",
    "print(i)"
   ]
  },
  {
   "cell_type": "code",
   "execution_count": 117,
   "metadata": {},
   "outputs": [
    {
     "name": "stdout",
     "output_type": "stream",
     "text": [
      "[3, 6, 9, 12, 15, 18, 21, 24, 27, 30, 33, 36, 39, 42, 45, 48, 51, 54, 57, 60, 63, 66, 69]\n"
     ]
    }
   ],
   "source": [
    "# 1부터 70까지 숫자들 중, 3의 배수를 리스트의 형태로 만들어서 출력하시오.\n",
    "\n",
    "x=[]\n",
    "for i in range(1, 71, 1) :\n",
    "    if i % 3 == 0 :\n",
    "        x.append(i)\n",
    "print(x)\n",
    "    "
   ]
  },
  {
   "cell_type": "code",
   "execution_count": 123,
   "metadata": {},
   "outputs": [
    {
     "name": "stdout",
     "output_type": "stream",
     "text": [
      "[3, 6, 9, 12, 15, 18, 21, 24, 27, 30, 33, 36, 39, 42, 45, 48, 51, 54, 57, 60, 63, 66, 69]\n"
     ]
    }
   ],
   "source": [
    "_list = []\n",
    "i = 1 \n",
    "\n",
    "while i <= 70:\n",
    "    if i % 3 == 0 :\n",
    "        _list.append(i)\n",
    "    i += 1\n",
    "    \n",
    "print(_list)"
   ]
  },
  {
   "cell_type": "code",
   "execution_count": 125,
   "metadata": {},
   "outputs": [
    {
     "name": "stdout",
     "output_type": "stream",
     "text": [
      "{'name': 'test', 'age': '20', 'phone': '010012345678'}\n"
     ]
    }
   ],
   "source": [
    "#사전형 데이터\n",
    "# (key1 : value1, key2 : value2, ...)\n",
    "dict = {'name' : 'test', 'age' : '20', 'phone' : \"010012345678\"}\n",
    "\n",
    "print(dict)"
   ]
  },
  {
   "cell_type": "code",
   "execution_count": 127,
   "metadata": {},
   "outputs": [
    {
     "name": "stdout",
     "output_type": "stream",
     "text": [
      "test\n"
     ]
    }
   ],
   "source": [
    "# test 단어를 출력하려면?\n",
    "print(dict['name'])"
   ]
  },
  {
   "cell_type": "code",
   "execution_count": 129,
   "metadata": {},
   "outputs": [
    {
     "ename": "KeyError",
     "evalue": "0",
     "output_type": "error",
     "traceback": [
      "\u001b[1;31m---------------------------------------------------------------------------\u001b[0m",
      "\u001b[1;31mKeyError\u001b[0m                                  Traceback (most recent call last)",
      "Cell \u001b[1;32mIn[129], line 1\u001b[0m\n\u001b[1;32m----> 1\u001b[0m \u001b[39mprint\u001b[39m(\u001b[39mdict\u001b[39;49m[\u001b[39m0\u001b[39;49m]) \u001b[39m# dict에선 위치형태 출력 불가\u001b[39;00m\n",
      "\u001b[1;31mKeyError\u001b[0m: 0"
     ]
    }
   ],
   "source": [
    "print(dict[0]) # dict에선 위치형태 출력 불가"
   ]
  },
  {
   "cell_type": "code",
   "execution_count": 131,
   "metadata": {},
   "outputs": [
    {
     "name": "stdout",
     "output_type": "stream",
     "text": [
      "{'name': 'test', 'age': '20', 'phone': '010012345678', 'area': 'seoul'}\n"
     ]
    }
   ],
   "source": [
    "# 새로운 키 : 밸류 추가\n",
    "#새로운 키 값을 입력\n",
    "dict['area'] = 'seoul'\n",
    "\n",
    "print(dict)"
   ]
  },
  {
   "cell_type": "code",
   "execution_count": 133,
   "metadata": {},
   "outputs": [
    {
     "name": "stdout",
     "output_type": "stream",
     "text": [
      "{'name': 'test', 'age': 30, 'phone': '010012345678', 'area': 'seoul'}\n"
     ]
    }
   ],
   "source": [
    "# 기존의 키 값에 있는 밸류를 수정\n",
    "dict['age'] = 30\n",
    "print (dict)"
   ]
  },
  {
   "cell_type": "code",
   "execution_count": 135,
   "metadata": {},
   "outputs": [
    {
     "ename": "KeyError",
     "evalue": "'phone'",
     "output_type": "error",
     "traceback": [
      "\u001b[1;31m---------------------------------------------------------------------------\u001b[0m",
      "\u001b[1;31mKeyError\u001b[0m                                  Traceback (most recent call last)",
      "Cell \u001b[1;32mIn[135], line 2\u001b[0m\n\u001b[0;32m      1\u001b[0m \u001b[39m# 데이터를 지울 때\u001b[39;00m\n\u001b[1;32m----> 2\u001b[0m \u001b[39mdel\u001b[39;00m(\u001b[39mdict\u001b[39m[\u001b[39m'\u001b[39m\u001b[39mphone\u001b[39m\u001b[39m'\u001b[39m])\n\u001b[0;32m      4\u001b[0m \u001b[39mprint\u001b[39m(\u001b[39mdict\u001b[39m)\n",
      "\u001b[1;31mKeyError\u001b[0m: 'phone'"
     ]
    }
   ],
   "source": [
    "# 데이터를 지울 때\n",
    "del(dict['phone'])\n",
    "\n",
    "print(dict)"
   ]
  },
  {
   "cell_type": "code",
   "execution_count": 1,
   "metadata": {},
   "outputs": [],
   "source": [
    "#db와 python을 연동하여 데이터를 받으면\n",
    "#데이터의 형태 [{},{}]\n",
    "test_data = []\n"
   ]
  }
 ],
 "metadata": {
  "kernelspec": {
   "display_name": "Python 3",
   "language": "python",
   "name": "python3"
  },
  "language_info": {
   "codemirror_mode": {
    "name": "ipython",
    "version": 3
   },
   "file_extension": ".py",
   "mimetype": "text/x-python",
   "name": "python",
   "nbconvert_exporter": "python",
   "pygments_lexer": "ipython3",
   "version": "3.10.10"
  },
  "orig_nbformat": 4,
  "vscode": {
   "interpreter": {
    "hash": "7b1f2b33e866b0bf2409397e5f58ba9cdf170d3b7f64c8f359c79998e2f88ad4"
   }
  }
 },
 "nbformat": 4,
 "nbformat_minor": 2
}
