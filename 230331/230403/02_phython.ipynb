{
 "cells": [
  {
   "cell_type": "code",
   "execution_count": null,
   "metadata": {},
   "outputs": [],
   "source": []
  },
  {
   "attachments": {},
   "cell_type": "markdown",
   "metadata": {},
   "source": [
    "#함수"
   ]
  },
  {
   "cell_type": "code",
   "execution_count": null,
   "metadata": {},
   "outputs": [],
   "source": [
    "#문자의 길이를 출력해주는 함수\n",
    "a = \"Hello\"\n",
    "\n",
    " print(len(a))"
   ]
  },
  {
   "cell_type": "code",
   "execution_count": 1,
   "metadata": {},
   "outputs": [
    {
     "ename": "NameError",
     "evalue": "name 'a' is not defined",
     "output_type": "error",
     "traceback": [
      "\u001b[1;31m---------------------------------------------------------------------------\u001b[0m",
      "\u001b[1;31mNameError\u001b[0m                                 Traceback (most recent call last)",
      "Cell \u001b[1;32mIn[1], line 4\u001b[0m\n\u001b[0;32m      1\u001b[0m \u001b[39m#문자를 대문자나소문자로 변경을 함수\u001b[39;00m\n\u001b[0;32m      2\u001b[0m \n\u001b[0;32m      3\u001b[0m \u001b[39m#문자를 모두 대문자로 변경\u001b[39;00m\n\u001b[1;32m----> 4\u001b[0m \u001b[39mprint\u001b[39m(a\u001b[39m.\u001b[39mupper())\n\u001b[0;32m      5\u001b[0m \u001b[39m#문자를 모두 소문자로 변경\u001b[39;00m\n\u001b[0;32m      6\u001b[0m \u001b[39mprint\u001b[39m(a\u001b[39m.\u001b[39mlower())\n",
      "\u001b[1;31mNameError\u001b[0m: name 'a' is not defined"
     ]
    }
   ],
   "source": [
    "#문자를 대문자나소문자로 변경을 함수\n",
    "\n",
    "#문자를 모두 대문자로 변경\n",
    "print(a.upper())\n",
    "#문자를 모두 소문자로 변경\n",
    "print(a.lower())"
   ]
  },
  {
   "cell_type": "code",
   "execution_count": null,
   "metadata": {},
   "outputs": [],
   "source": [
    "b = \"hello world\"\n",
    "# 단어의 첫글자만 대문자로 변경 함수\n",
    "print(b.title())\n"
   ]
  },
  {
   "cell_type": "code",
   "execution_count": 3,
   "metadata": {},
   "outputs": [
    {
     "data": {
      "text/plain": [
       "' Hello World '"
      ]
     },
     "execution_count": 3,
     "metadata": {},
     "output_type": "execute_result"
    }
   ],
   "source": [
    "# 좌우의 공백을 제거하는 함수\n",
    "# strip()\n",
    "\n",
    "a = \" Hello World \"\n",
    "a\n"
   ]
  },
  {
   "cell_type": "code",
   "execution_count": 5,
   "metadata": {},
   "outputs": [
    {
     "data": {
      "text/plain": [
       "'Hello World '"
      ]
     },
     "execution_count": 5,
     "metadata": {},
     "output_type": "execute_result"
    }
   ],
   "source": [
    "#좌측 공백만 제거\n",
    "a.lstrip()"
   ]
  },
  {
   "cell_type": "code",
   "execution_count": 7,
   "metadata": {},
   "outputs": [
    {
     "data": {
      "text/plain": [
       "' Hello World'"
      ]
     },
     "execution_count": 7,
     "metadata": {},
     "output_type": "execute_result"
    }
   ],
   "source": [
    "#우측 공백만 제거\n",
    "a.rstrip()"
   ]
  },
  {
   "cell_type": "code",
   "execution_count": 9,
   "metadata": {},
   "outputs": [
    {
     "data": {
      "text/plain": [
       "'2.11'"
      ]
     },
     "execution_count": 9,
     "metadata": {},
     "output_type": "execute_result"
    }
   ],
   "source": [
    "b = \"$2.11\"\n",
    "# b라는 변수에 있는 '$' 표시를 제거\n",
    "b.lstrip('$')"
   ]
  },
  {
   "cell_type": "code",
   "execution_count": 12,
   "metadata": {},
   "outputs": [
    {
     "data": {
      "text/plain": [
       "'2.$11'"
      ]
     },
     "execution_count": 12,
     "metadata": {},
     "output_type": "execute_result"
    }
   ],
   "source": [
    "b = \"$2.$11$\"\n",
    "b.strip('$') # 가운데 $는 안지워짐 . 양 끝만 . "
   ]
  },
  {
   "cell_type": "code",
   "execution_count": 14,
   "metadata": {},
   "outputs": [
    {
     "data": {
      "text/plain": [
       "'-2.-11-'"
      ]
     },
     "execution_count": 14,
     "metadata": {},
     "output_type": "execute_result"
    }
   ],
   "source": [
    "# 특정한 단어를 대체하는 함수\n",
    "# Replce(기준 단어, 변경 대체할 단어)\n",
    "# b 변수의 '$'표기를 '-'로 변경하기 위해선\n",
    "b.replace('$', '-') "
   ]
  },
  {
   "cell_type": "code",
   "execution_count": 16,
   "metadata": {},
   "outputs": [
    {
     "data": {
      "text/plain": [
       "'2.11'"
      ]
     },
     "execution_count": 16,
     "metadata": {},
     "output_type": "execute_result"
    }
   ],
   "source": [
    "\n",
    "# b 변수의 $표기를 삭제하려면?\n",
    "b.replace('$','')"
   ]
  },
  {
   "cell_type": "code",
   "execution_count": 18,
   "metadata": {},
   "outputs": [
    {
     "data": {
      "text/plain": [
       "'HelloWorld'"
      ]
     },
     "execution_count": 18,
     "metadata": {},
     "output_type": "execute_result"
    }
   ],
   "source": [
    "# a 변수의 공백을 모두 삭제하려면?\n",
    "a.replace(' ','') #기준 값에는 공백을 넣어주어야함"
   ]
  },
  {
   "cell_type": "code",
   "execution_count": 20,
   "metadata": {},
   "outputs": [
    {
     "name": "stdout",
     "output_type": "stream",
     "text": [
      "['1', '2', '3', '4', '5']\n"
     ]
    }
   ],
   "source": [
    "# 문자열을 특정한 값을 기준으로 나눠주는 함수\n",
    "# split(특정한 값) -> 인자 값을 아무것도 넣지 않으면 \" \"을 기준으로 나눠준다.\n",
    "\n",
    "a = \"1,2,3,4,5\"\n",
    "b = \"1 2 3 4 5\"\n",
    "\n",
    "print(a.split(','))\n"
   ]
  },
  {
   "cell_type": "code",
   "execution_count": 22,
   "metadata": {},
   "outputs": [
    {
     "name": "stdout",
     "output_type": "stream",
     "text": [
      "3\n"
     ]
    }
   ],
   "source": [
    "print(a.split(',')[2])"
   ]
  },
  {
   "cell_type": "code",
   "execution_count": 25,
   "metadata": {},
   "outputs": [
    {
     "name": "stdout",
     "output_type": "stream",
     "text": [
      "6\n",
      "1\n"
     ]
    }
   ],
   "source": [
    "# max() -> 인자값들 중 가장 큰 숫자를 출력\n",
    "# mean() -> 인자값들의 평균\n",
    "# min() -> 인자 값들 중에 가장 작은 숫자를 출력\n",
    "print(max(1, 6, 3, 4))\n",
    "print(min(1,6,3,4))"
   ]
  },
  {
   "cell_type": "code",
   "execution_count": 28,
   "metadata": {},
   "outputs": [
    {
     "name": "stdout",
     "output_type": "stream",
     "text": [
      "Hello\n"
     ]
    }
   ],
   "source": [
    "# 일반함수\n",
    "\n",
    "# 함수 선언, 생성 \n",
    "# 매개변수가 존재하지 않는 경우\n",
    "def func_1():\n",
    "    return \"Hello\"\n",
    "\n",
    "# 함수를 호출\n",
    "print(func_1())"
   ]
  },
  {
   "cell_type": "code",
   "execution_count": 30,
   "metadata": {},
   "outputs": [
    {
     "name": "stdout",
     "output_type": "stream",
     "text": [
      "9\n",
      "3\n",
      "helloworld\n"
     ]
    }
   ],
   "source": [
    "# 매개변수가 존재하는 경우\n",
    "def func_2(a,b):\n",
    "    c = a + b\n",
    "    return c\n",
    "\n",
    "print (func_2(3,6))\n",
    "print (func_2(1,2))\n",
    "print (func_2('hello', 'world'))"
   ]
  },
  {
   "cell_type": "code",
   "execution_count": 32,
   "metadata": {},
   "outputs": [
    {
     "ename": "TypeError",
     "evalue": "func_2() missing 1 required positional argument: 'b'",
     "output_type": "error",
     "traceback": [
      "\u001b[1;31m---------------------------------------------------------------------------\u001b[0m",
      "\u001b[1;31mTypeError\u001b[0m                                 Traceback (most recent call last)",
      "Cell \u001b[1;32mIn[32], line 2\u001b[0m\n\u001b[0;32m      1\u001b[0m \u001b[39m# 함수의 매개변수의 개수와 호출할 때 인자의 개수가 다르면 ?\u001b[39;00m\n\u001b[1;32m----> 2\u001b[0m func_2(\u001b[39m4\u001b[39;49m) \u001b[39m# 오류 발생, 함수에서 b라는 값을 만족시키지 못했다는 메시지 확인해보기\u001b[39;00m\n",
      "\u001b[1;31mTypeError\u001b[0m: func_2() missing 1 required positional argument: 'b'"
     ]
    }
   ],
   "source": [
    "# 함수의 매개변수의 개수와 호출할 때 인자의 개수가 다르면 ?\n",
    "func_2(4) # 오류 발생, 함수에서 b라는 값을 만족시키지 못했다는 메시지 확인해보기"
   ]
  },
  {
   "cell_type": "code",
   "execution_count": 34,
   "metadata": {},
   "outputs": [
    {
     "ename": "TypeError",
     "evalue": "func_2() takes 2 positional arguments but 3 were given",
     "output_type": "error",
     "traceback": [
      "\u001b[1;31m---------------------------------------------------------------------------\u001b[0m",
      "\u001b[1;31mTypeError\u001b[0m                                 Traceback (most recent call last)",
      "Cell \u001b[1;32mIn[34], line 2\u001b[0m\n\u001b[0;32m      1\u001b[0m \u001b[39m#인자를 많이 넣으면?\u001b[39;00m\n\u001b[1;32m----> 2\u001b[0m func_2(\u001b[39m1\u001b[39;49m,\u001b[39m2\u001b[39;49m,\u001b[39m3\u001b[39;49m)\n",
      "\u001b[1;31mTypeError\u001b[0m: func_2() takes 2 positional arguments but 3 were given"
     ]
    }
   ],
   "source": [
    "#인자를 많이 넣으면?\n",
    "func_2(1,2,3)"
   ]
  },
  {
   "cell_type": "code",
   "execution_count": 37,
   "metadata": {},
   "outputs": [
    {
     "name": "stdout",
     "output_type": "stream",
     "text": [
      "-2\n"
     ]
    },
    {
     "ename": "NameError",
     "evalue": "name 'c' is not defined",
     "output_type": "error",
     "traceback": [
      "\u001b[1;31m---------------------------------------------------------------------------\u001b[0m",
      "\u001b[1;31mNameError\u001b[0m                                 Traceback (most recent call last)",
      "Cell \u001b[1;32mIn[37], line 7\u001b[0m\n\u001b[0;32m      4\u001b[0m     \u001b[39mreturn\u001b[39;00m result\n\u001b[0;32m      6\u001b[0m \u001b[39mprint\u001b[39m(func_3(\u001b[39m3\u001b[39m,\u001b[39m5\u001b[39m))\n\u001b[1;32m----> 7\u001b[0m \u001b[39mprint\u001b[39m(c)\n",
      "\u001b[1;31mNameError\u001b[0m: name 'c' is not defined"
     ]
    }
   ],
   "source": [
    "def func_3(a,b):\n",
    "    c = 10 \n",
    "    result = a + b - 10\n",
    "    return result\n",
    "\n",
    "print(func_3(3,5))\n",
    "print(c) # 함수 안에서 생성된 변수라서 에러 발생"
   ]
  },
  {
   "cell_type": "code",
   "execution_count": 38,
   "metadata": {},
   "outputs": [],
   "source": [
    "# 전역 변수 - 어디에서든 사용할 수 있는 변수. 들여쓰기를 하지 않은 공간에서 생성한 변수\n",
    "\n",
    "# 지역 변수 - 일정 범위 안에서 사용할 수 있는 변수. 들여쓰기를 한 공간에서 생성한 변수"
   ]
  },
  {
   "cell_type": "code",
   "execution_count": 40,
   "metadata": {},
   "outputs": [
    {
     "name": "stdout",
     "output_type": "stream",
     "text": [
      "15\n"
     ]
    }
   ],
   "source": [
    "x = 3\n",
    "\n",
    "def func_4(a):\n",
    "    result = a * x\n",
    "    return result\n",
    "\n",
    "print(func_4(5))\n",
    "\n",
    "# x는 전역변수\n",
    "# a는 매개변수(지역변수)"
   ]
  },
  {
   "cell_type": "code",
   "execution_count": 45,
   "metadata": {},
   "outputs": [
    {
     "name": "stdout",
     "output_type": "stream",
     "text": [
      "6/7\n",
      "-1\n"
     ]
    }
   ],
   "source": [
    "# 매개변수에 기본값 설정\n",
    "def func_5(a,b,c = 2):\n",
    "    result = a + b - c\n",
    "    return result\n",
    "\n",
    "print(func_5(5,4,3), end=\"/\")\n",
    "print(func_5(5,4))\n",
    "print(func_5(c = 5, a = 3, b = 1))"
   ]
  },
  {
   "cell_type": "code",
   "execution_count": 48,
   "metadata": {},
   "outputs": [
    {
     "name": "stdout",
     "output_type": "stream",
     "text": [
      "8\n",
      "2\n",
      "c의 값이 잘못되었습니다\n"
     ]
    }
   ],
   "source": [
    "# c의 값이 1이면 a와 b의 합계 return\n",
    "# c의 값이 2이면 a와 b의 차이 return\n",
    "# c가 그 외의 값이면 'c의 값이 잘못되었습니다' return\n",
    "\n",
    "def func_6(a,b,c):\n",
    "    #c가 1인 경우\n",
    "    if c == 1 :\n",
    "        # a와 b의 합계를 return\n",
    "        return a + b\n",
    "    \n",
    "    #c의 값이 2인 경우\n",
    "    elif c == 2 :\n",
    "        # a와 b의 차이를 return\n",
    "        return a - b\n",
    "    \n",
    "    #c의 값이 그 외일 경우\n",
    "    else :\n",
    "        return \"c의 값이 잘못되었습니다\"\n",
    "\n",
    "print(func_6(5,3,1))\n",
    "print(func_6(5,3,2))\n",
    "print(func_6(5,3,3))    "
   ]
  },
  {
   "cell_type": "code",
   "execution_count": 49,
   "metadata": {},
   "outputs": [
    {
     "name": "stdout",
     "output_type": "stream",
     "text": [
      "1\n",
      "2\n",
      "3\n",
      "4\n",
      "5\n",
      "6\n",
      "7\n",
      "8\n",
      "9\n",
      "10\n"
     ]
    }
   ],
   "source": [
    "# 반복문\n",
    "for i in range(1, 11, 1):\n",
    "    print(i)"
   ]
  },
  {
   "cell_type": "code",
   "execution_count": 51,
   "metadata": {},
   "outputs": [
    {
     "name": "stdout",
     "output_type": "stream",
     "text": [
      "10\n",
      "20\n",
      "30\n",
      "40\n"
     ]
    }
   ],
   "source": [
    "_list = [10, 20, 30, 40]\n",
    "for i in _list:\n",
    "    print(i)"
   ]
  },
  {
   "cell_type": "code",
   "execution_count": 54,
   "metadata": {},
   "outputs": [
    {
     "name": "stdout",
     "output_type": "stream",
     "text": [
      "10\n",
      "20\n",
      "30\n",
      "40\n"
     ]
    }
   ],
   "source": [
    "for i in range (0, len(_list), 1) :\n",
    "    print(_list[i])"
   ]
  },
  {
   "cell_type": "code",
   "execution_count": 70,
   "metadata": {},
   "outputs": [],
   "source": [
    "#예제\n",
    "# 1. 함수 생성 (매개변수 2개 : _min, _max)\n",
    "# 2. _min부터 _max까지의 합계를 출력하는 함수\n",
    "# 함수 생성 매개변수 2개를 넣어서 생성 - 매개변수 2개를 프린트 함수를 이용해서 출력 - 함수 안에 반복문을 생성해서 min부터 max까지 반복\n",
    "\n",
    "def func_7(_min, _max):\n",
    "    print(_min)\n",
    "    print(_max)\n",
    "    result = 0\n",
    "    \n",
    "    for i in range(_min, _max+1):\n",
    "        print(i)\n",
    "        result += i\n",
    "    return result # 바깥 쪽으로 빼주지 않으면 반복 한 번에 return으로 인해 종료\n",
    "    "
   ]
  },
  {
   "cell_type": "code",
   "execution_count": 73,
   "metadata": {},
   "outputs": [
    {
     "name": "stdout",
     "output_type": "stream",
     "text": [
      "1\n",
      "10\n",
      "1\n",
      "2\n",
      "3\n",
      "4\n",
      "5\n",
      "6\n",
      "7\n",
      "8\n",
      "9\n",
      "10\n"
     ]
    },
    {
     "data": {
      "text/plain": [
       "55"
      ]
     },
     "execution_count": 73,
     "metadata": {},
     "output_type": "execute_result"
    }
   ],
   "source": [
    "func_7(1,10)"
   ]
  },
  {
   "cell_type": "code",
   "execution_count": 76,
   "metadata": {},
   "outputs": [],
   "source": [
    "def func_8(_min, _max):\n",
    "    result = 0\n",
    "    for i in range(min(_min, _max), max(_min, _max) + 1) :\n",
    "        result += i\n",
    "    return result    "
   ]
  },
  {
   "cell_type": "code",
   "execution_count": 78,
   "metadata": {},
   "outputs": [
    {
     "name": "stdout",
     "output_type": "stream",
     "text": [
      "55\n",
      "55\n"
     ]
    }
   ],
   "source": [
    "print(func_8(1, 10))\n",
    "print(func_8(1, 10))"
   ]
  },
  {
   "cell_type": "code",
   "execution_count": 80,
   "metadata": {},
   "outputs": [],
   "source": [
    "# 함수 생성 -> 인자의 개수가 가변인 경우 \n",
    "def func_11(*_list) :\n",
    "    print(_list)"
   ]
  },
  {
   "cell_type": "code",
   "execution_count": 82,
   "metadata": {},
   "outputs": [
    {
     "name": "stdout",
     "output_type": "stream",
     "text": [
      "(1, 2, 3, 4, 5)\n",
      "(1, 2, 3)\n",
      "(1, 2, 3, 4, 5, 6, 7, 8, 9, 10)\n"
     ]
    }
   ],
   "source": [
    "func_11(1,2,3,4,5)\n",
    "func_11(1,2,3)\n",
    "func_11(1,2,3,4,5,6,7,8,9,10)"
   ]
  },
  {
   "cell_type": "code",
   "execution_count": 94,
   "metadata": {},
   "outputs": [],
   "source": [
    "# max(), min() 함수를 생성해보자.\n",
    "# 1. 인자의 개수가 가변이다. -> *로 매개변수를 만들어줘야한다.\n",
    "# 2. 각각의 항목들을 비교해서 가장 큰 숫자를 출력 -> return int형태\n",
    "# 3. 예를 들어 4개의 항목의 데이터가 대입 \n",
    "# 3-1. 첫째 항목과 둘째 항목을 비교해서 큰 값을 새로운 변수에 대입\n",
    "# 3-2. 1번 과정에서 나온 값과 셋째 항목을 비교해서 큰 값을 다시 변수에 대입\n",
    "# 3-3. 2번 과정에서 나온 값과 마지막 항목을 비교해서 큰 값을 다시 변수에 대입\n",
    "# 3-4. 최종 변수의 값을 리턴\n",
    "\n",
    "def custom_max(*_list):\n",
    "    result = _list[0]\n",
    "    #첫번째 원소를 출력\n",
    "    #첫번째 원소와 두번째 원소의 값을 비교하여 큰 값 대입\n",
    "    #if _list[0] > _list[1] :\n",
    "    #    result = _list[0]\n",
    "    #else:\n",
    "    #    result = _list[1]\n",
    "    #     if result < _list[1]:\n",
    "    #         result = _list[1]\n",
    "    # #result와 세번째 원소를 비교\n",
    "    #if result > _list[2]:\n",
    "    #    result = result\n",
    "    #else:\n",
    "    #    result = _list[2]\n",
    "        # if result < list[2]:\n",
    "        #     result = _list[2]\n",
    "    # for i in range(1, len(_list), 1):\n",
    "    #     if result < _list[i]:\n",
    "    #         result = _list[i]\n",
    "    # return result\n",
    "    \n",
    "    for i in _list:\n",
    "        if result < i:\n",
    "            result = i\n",
    "    return result    \n",
    "        "
   ]
  },
  {
   "cell_type": "code",
   "execution_count": 95,
   "metadata": {},
   "outputs": [
    {
     "name": "stdout",
     "output_type": "stream",
     "text": [
      "8\n"
     ]
    }
   ],
   "source": [
    "print(custom_max(1,6,4,8,2))"
   ]
  },
  {
   "cell_type": "code",
   "execution_count": 104,
   "metadata": {},
   "outputs": [],
   "source": [
    "# 평균을  출력해주는 함수를 생성해보자\n",
    "# 1. 인자 개수가 가변\n",
    "# 2. 받아온 인자 값들을 원소 하나씩 출력\n",
    "# 3. 각 원소들의 합계\n",
    "#  3-1. 합계라는 변수 생성 - 0을 대입\n",
    "#  3-2. 각 원소들의 값들은 합계에 추가\n",
    "# 4. 합계 / 인자의 개수 -> 평균 리턴\n",
    "\n",
    "def func_12(*_list):\n",
    "    print(_list)\n",
    "    result = 0\n",
    "    for i in _list:\n",
    "        result += i\n",
    "    return result / len(_list)\n",
    "\n",
    "    # i = 0\n",
    "    # while 1 < len(_list)\n",
    "    #     print(_list[i])\n",
    "    #     i += 1 i값 설정안할 시 무한 반복 주의\n",
    "          \n",
    "    "
   ]
  },
  {
   "cell_type": "code",
   "execution_count": 100,
   "metadata": {},
   "outputs": [
    {
     "name": "stdout",
     "output_type": "stream",
     "text": [
      "(1, 2, 3, 4)\n",
      "2.5\n"
     ]
    }
   ],
   "source": [
    "print(func_12(1,2,3,4))"
   ]
  },
  {
   "cell_type": "code",
   "execution_count": 103,
   "metadata": {},
   "outputs": [
    {
     "name": "stdout",
     "output_type": "stream",
     "text": [
      "(1, 2, 3, 4, 5, 6, 7, 8, 9, 10)\n",
      "5.5\n"
     ]
    }
   ],
   "source": [
    "print(func_12(1,2,3,4,5,6,7,8,9,10))"
   ]
  },
  {
   "cell_type": "code",
   "execution_count": 106,
   "metadata": {},
   "outputs": [],
   "source": [
    "# 외부의 모듈을 로드\n",
    "import mod1 "
   ]
  },
  {
   "cell_type": "code",
   "execution_count": 108,
   "metadata": {},
   "outputs": [
    {
     "data": {
      "text/plain": [
       "5"
      ]
     },
     "execution_count": 108,
     "metadata": {},
     "output_type": "execute_result"
    }
   ],
   "source": [
    "mod1.custom_max(1,2,3,4,5)"
   ]
  },
  {
   "cell_type": "code",
   "execution_count": 109,
   "metadata": {},
   "outputs": [
    {
     "name": "stdout",
     "output_type": "stream",
     "text": [
      "(1, 2, 3, 4, 5)\n"
     ]
    },
    {
     "data": {
      "text/plain": [
       "3.0"
      ]
     },
     "execution_count": 109,
     "metadata": {},
     "output_type": "execute_result"
    }
   ],
   "source": [
    "mod1.func_12(1,2,3,4,5)"
   ]
  }
 ],
 "metadata": {
  "kernelspec": {
   "display_name": "Python 3",
   "language": "python",
   "name": "python3"
  },
  "language_info": {
   "codemirror_mode": {
    "name": "ipython",
    "version": 3
   },
   "file_extension": ".py",
   "mimetype": "text/x-python",
   "name": "python",
   "nbconvert_exporter": "python",
   "pygments_lexer": "ipython3",
   "version": "3.10.10"
  },
  "orig_nbformat": 4
 },
 "nbformat": 4,
 "nbformat_minor": 2
}
