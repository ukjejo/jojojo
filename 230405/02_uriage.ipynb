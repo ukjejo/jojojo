{
 "cells": [
  {
   "cell_type": "code",
   "execution_count": null,
   "metadata": {},
   "outputs": [],
   "source": [
    "import pandas as pd"
   ]
  },
  {
   "attachments": {},
   "cell_type": "markdown",
   "metadata": {},
   "source": [
    "1. csv 폴더에서 uriage.csv 로드\n",
    "2. purchase_date 컬럼의 데이터를 시계열데이터로 변경\n",
    "3. item_name의 데이터의 모든 문자열을 대문자로 변경\n",
    "4. item_name의 데이터의 공백을 모두 삭제\n",
    "5. item_name을 기준으로 오름차순 정렬\n",
    "6. 인덱스를 초기화\n",
    "7. 결측치를 채우는 작업\n",
    "    - item_price 컬럼에 결측치가 존재\n",
    "    - 상품A인 경우 결측치는 상품A의 item_price 중 결측치가 아닌 값으로 치환\n",
    "    - 위의 작업을 상품A부터 상품Z까지 반복 작업"
   ]
  },
  {
   "cell_type": "code",
   "execution_count": null,
   "metadata": {},
   "outputs": [],
   "source": [
    "uriage = pd.read_csv('../230331/230403/230404/csv/uriage.csv')\n",
    "uriage.head()"
   ]
  },
  {
   "cell_type": "code",
   "execution_count": null,
   "metadata": {},
   "outputs": [],
   "source": [
    "uriage.info()"
   ]
  },
  {
   "cell_type": "code",
   "execution_count": null,
   "metadata": {},
   "outputs": [],
   "source": [
    "uriage.isna().sum()"
   ]
  },
  {
   "cell_type": "code",
   "execution_count": null,
   "metadata": {},
   "outputs": [],
   "source": [
    "# 시계열 데이터로 데이터의 형태를 변경\n",
    "# pd.to_datetime(변경할 데이터, format = \"\")\n",
    "t = 20230405\n",
    "pd.to_datetime(t, format = \"%Y%m%d\")\n"
   ]
  },
  {
   "cell_type": "code",
   "execution_count": null,
   "metadata": {},
   "outputs": [],
   "source": [
    "# purchase_date 컬럽을 시계열로 변경\n",
    "uriage['purchase_date'] = pd.to_datetime(uriage['purchase_date'], format = \"%Y-%m-%d %H:%M\")"
   ]
  },
  {
   "cell_type": "code",
   "execution_count": null,
   "metadata": {},
   "outputs": [],
   "source": [
    "uriage.info()"
   ]
  },
  {
   "cell_type": "code",
   "execution_count": null,
   "metadata": {},
   "outputs": [],
   "source": [
    "# 원본 데이터를 생성\n",
    "origin_data = uriage.copy()"
   ]
  },
  {
   "cell_type": "code",
   "execution_count": null,
   "metadata": {},
   "outputs": [],
   "source": [
    "# item_name 컬럼의 데이터를 모두 대문자로 변경\n",
    "# upper() : 문자열을 모두 대문자로 변경\n",
    "# str.upper() 을 사용하여 문자열을 대문자로 변경\n",
    "uriage['item_name'] = uriage['item_name'].str.upper()"
   ]
  },
  {
   "cell_type": "code",
   "execution_count": null,
   "metadata": {},
   "outputs": [],
   "source": [
    "# apply() 함수를 이용하여 글자를 모두 소문자로 변경\n",
    "# apply() 는 스리즈데이터.apply(함수) => 스리즈의 데이터들을 하나씩 함수 안에 넣어서 결과값으로, 새로운 스리즈 형태의 데이터를 생성\n",
    "def change(x):\n",
    "    result = x.lower()\n",
    "    return result\n",
    "\n",
    "uriage['item_name'] = uriage[\"item_name\"].apply(change)"
   ]
  },
  {
   "cell_type": "code",
   "execution_count": null,
   "metadata": {},
   "outputs": [],
   "source": [
    "# apply(lambda 함수) \n",
    "\n",
    "uriage['item_name'] = uriage['item_name'].apply(lambda x : x.upper()) \n"
   ]
  },
  {
   "cell_type": "code",
   "execution_count": null,
   "metadata": {},
   "outputs": [],
   "source": [
    "def change(x):\n",
    "    print(x)\n",
    "    return x\n",
    "\n",
    "\n",
    "uriage.apply(change)"
   ]
  },
  {
   "cell_type": "code",
   "execution_count": null,
   "metadata": {},
   "outputs": [],
   "source": [
    "# item_name의 공백을 제거\n",
    "# 공백을 제거하는 함수 : strip() => 문자열의 좌우 공백 제거\n",
    "# 현재 데이터에서는 가운데 공백의 존재로 인해 strip() 사용 불가\n",
    "# 문자열 사이의 공백까지 제거하려면 사용할 함수의 이름?\n",
    "# replace(기준 문자열, 대체할 문자열)\n",
    "# replace(\" \", \"\")\n",
    "# seires니까 str\n",
    "\n",
    "uriage[\"item_name\"].str.replace(\" \",\"\")"
   ]
  },
  {
   "cell_type": "code",
   "execution_count": null,
   "metadata": {},
   "outputs": [],
   "source": [
    "def change(x) :\n",
    "    result = x.replace(\" \",\"\")\n",
    "    result = result.lower()\n",
    "    return result\n",
    "\n",
    "uriage['item_name'].apply(change)"
   ]
  },
  {
   "cell_type": "code",
   "execution_count": null,
   "metadata": {},
   "outputs": [],
   "source": [
    "uriage['item_name'] = uriage['item_name'].apply(lambda x : x.replace(\" \",\"\").upper())"
   ]
  },
  {
   "cell_type": "code",
   "execution_count": null,
   "metadata": {},
   "outputs": [],
   "source": [
    "uriage['item_name']"
   ]
  },
  {
   "cell_type": "code",
   "execution_count": null,
   "metadata": {},
   "outputs": [],
   "source": [
    "# item_name을 기준으로 오름차순 정렬\n",
    "\n",
    "uriage.sort_values('item_name', inplace = True)"
   ]
  },
  {
   "cell_type": "code",
   "execution_count": null,
   "metadata": {},
   "outputs": [],
   "source": [
    "# 인덱스를 초기화 => 기존의 인덱스는 삭제\n",
    "uriage.reset_index(drop = True, inplace = True)"
   ]
  },
  {
   "cell_type": "code",
   "execution_count": null,
   "metadata": {},
   "outputs": [],
   "source": []
  },
  {
   "cell_type": "code",
   "execution_count": null,
   "metadata": {},
   "outputs": [],
   "source": [
    "uriage.isna().sum()"
   ]
  },
  {
   "cell_type": "code",
   "execution_count": null,
   "metadata": {},
   "outputs": [],
   "source": []
  },
  {
   "cell_type": "code",
   "execution_count": null,
   "metadata": {},
   "outputs": [],
   "source": []
  },
  {
   "attachments": {},
   "cell_type": "markdown",
   "metadata": {},
   "source": [
    "1. 상품A의 item_price의 값은 결측치 중 상품A이면 이 값을 치환 \n",
    "2. 나머지 상품들도 같은 작업을 반복"
   ]
  },
  {
   "cell_type": "code",
   "execution_count": null,
   "metadata": {},
   "outputs": [],
   "source": [
    "# 상품A의 item_price를 출력\n",
    "# 행의 조건? 결측치가 아니다, item_name이 상품A이다 \n",
    "# 열의 조건? item_price\n",
    "\n",
    "# 결측치가 아닌 조건\n",
    "flg_null = uriage['item_price'].isna()\n",
    "#uriage.isna().any(1)\n"
   ]
  },
  {
   "cell_type": "code",
   "execution_count": null,
   "metadata": {},
   "outputs": [],
   "source": [
    "# 결측치인 값들을 출력\n",
    "uriage.loc[flg_null]"
   ]
  },
  {
   "cell_type": "code",
   "execution_count": null,
   "metadata": {},
   "outputs": [],
   "source": [
    "# item_name이 상품A인 경우만 출력\n",
    "uriage.loc[uriage['item_name'] == '상품A']"
   ]
  },
  {
   "cell_type": "code",
   "execution_count": null,
   "metadata": {},
   "outputs": [],
   "source": [
    "# 상품A이면서 item_price가 결측치인 경우\n",
    "uriage.loc[(flg_null) & (uriage['item_name'] == '상품A')]"
   ]
  },
  {
   "cell_type": "code",
   "execution_count": null,
   "metadata": {},
   "outputs": [],
   "source": [
    "price = uriage.loc[(~flg_null) & (uriage['item_name'] == '상품A'), 'item_price'].value_counts().index[0]"
   ]
  },
  {
   "cell_type": "code",
   "execution_count": null,
   "metadata": {},
   "outputs": [],
   "source": [
    "# 결측치에 값을 치환하는 함수\n",
    "# fillna(n) : n의 값으로 결측치를 채운다.\n",
    "uriage.loc[(flg_null) & (uriage['item_name'] == '상품A')].fillna(price)"
   ]
  },
  {
   "cell_type": "code",
   "execution_count": null,
   "metadata": {},
   "outputs": [],
   "source": [
    "uriage.loc[(flg_null) & (uriage['item_name'] == '상품A'), 'item_price'] = price"
   ]
  },
  {
   "cell_type": "code",
   "execution_count": null,
   "metadata": {},
   "outputs": [],
   "source": [
    "# item_name의 리스트 출력\n",
    "\n",
    "name_list = uriage['item_name'].unique()"
   ]
  },
  {
   "cell_type": "code",
   "execution_count": null,
   "metadata": {},
   "outputs": [],
   "source": [
    "for i in name_list : \n",
    "    # item_price의 값을 구한다.\n",
    "    # item_name이 i와 같고 결측치가 아닌 데이터에서 price를 출력\n",
    "    price = uriage.loc[(~flg_null) & (uriage['item_name'] == i), 'item_price'].value_counts().index[0]\n",
    "    \n",
    "    # item_name이 i와 같고 결측치인 데이터에서 item_price에 price라는 변수를 삽입\n",
    "    uriage.loc[(flg_null) & (uriage['item_name'] == i), 'item_price'] = price\n",
    "    \n",
    "    "
   ]
  },
  {
   "cell_type": "code",
   "execution_count": null,
   "metadata": {},
   "outputs": [],
   "source": [
    "uriage.isna().sum()"
   ]
  },
  {
   "cell_type": "code",
   "execution_count": null,
   "metadata": {},
   "outputs": [],
   "source": []
  },
  {
   "cell_type": "code",
   "execution_count": null,
   "metadata": {},
   "outputs": [],
   "source": []
  }
 ],
 "metadata": {
  "kernelspec": {
   "display_name": "Python 3",
   "language": "python",
   "name": "python3"
  },
  "language_info": {
   "codemirror_mode": {
    "name": "ipython",
    "version": 3
   },
   "file_extension": ".py",
   "mimetype": "text/x-python",
   "name": "python",
   "nbconvert_exporter": "python",
   "pygments_lexer": "ipython3",
   "version": "3.10.10"
  },
  "orig_nbformat": 4
 },
 "nbformat": 4,
 "nbformat_minor": 2
}
